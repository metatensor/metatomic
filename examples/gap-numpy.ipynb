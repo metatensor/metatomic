{
 "cells": [
  {
   "cell_type": "code",
   "execution_count": 1,
   "metadata": {},
   "outputs": [],
   "source": [
    "%load_ext autoreload\n",
    "%autoreload 2\n",
    "\n",
    "import numpy as np\n",
    "import matplotlib.pyplot as plt\n",
    "import skcosmo.sample_selection\n",
    "import sklearn\n",
    "import scipy\n",
    "import copy\n",
    "\n",
    "import ase.io\n",
    "\n",
    "from aml_storage import Indexes, Block, Descriptor\n",
    "\n",
    "from aml_rascal_bridge import RascalSphericalExpansion"
   ]
  },
  {
   "cell_type": "code",
   "execution_count": 2,
   "metadata": {},
   "outputs": [],
   "source": [
    "frames = ase.io.read(\"data/molecule_conformers_dftb.xyz\", \":100\")\n",
    "\n",
    "# frames = ase.io.read(\"selection-10k.extxyz\", \"::100\")\n",
    "# for frame in frames:\n",
    "#     frame.cell = [100, 100, 100]\n",
    "#     frame.center\n",
    "\n",
    "training_frames, testing_frames = sklearn.model_selection.train_test_split(\n",
    "    frames, train_size=0.8, random_state=0XDEADBEEF, \n",
    ")\n",
    "\n",
    "train_energies = np.array([\n",
    "    frame.info[\"energy\"] for frame in training_frames\n",
    "])\n",
    "\n",
    "test_energies = np.array([\n",
    "    frame.info[\"energy\"] for frame in testing_frames\n",
    "])"
   ]
  },
  {
   "cell_type": "code",
   "execution_count": 3,
   "metadata": {},
   "outputs": [],
   "source": [
    "rascal_hypers = {\n",
    "    \"interaction_cutoff\": 3.5,\n",
    "    \"cutoff_smooth_width\": 0.5,\n",
    "    \"max_radial\": 6,\n",
    "    \"max_angular\": 6,\n",
    "    \"gaussian_sigma_type\": \"Constant\",\n",
    "    \"compute_gradients\": False,\n",
    "}\n",
    "\n",
    "calculator = RascalSphericalExpansion(rascal_hypers)"
   ]
  },
  {
   "cell_type": "code",
   "execution_count": 4,
   "metadata": {},
   "outputs": [],
   "source": [
    "def invariant_block_to_2d_array(block):\n",
    "    assert len(block.values.shape) == 3\n",
    "    assert block.values.shape[1] == 1\n",
    "\n",
    "    return block.values.reshape(block.values.shape[0], -1)\n",
    "\n",
    "def array_2d_to_invariant(array):\n",
    "    assert len(array.shape) == 2\n",
    "\n",
    "    return array.reshape(array.shape[0], 1, -1)"
   ]
  },
  {
   "cell_type": "markdown",
   "metadata": {},
   "source": [
    "# Compute power spectrum"
   ]
  },
  {
   "cell_type": "code",
   "execution_count": 5,
   "metadata": {},
   "outputs": [],
   "source": [
    "def compute_power_spectrum(frames):\n",
    "    spherical_expansion = calculator.compute(frames)\n",
    "    assert spherical_expansion.sparse_indexes.names == ('spherical_harmonics_l', 'center_species', 'neighbor_species')\n",
    "\n",
    "    blocks = []\n",
    "    sparse_indexes = []\n",
    "\n",
    "    for (l1, cs1, ns1), spx_1 in spherical_expansion:\n",
    "        for (l2, cs2, ns2), spx_2 in spherical_expansion:\n",
    "            if l1 != l2 or cs1 != cs2:\n",
    "                continue\n",
    "\n",
    "            # with the same central species, we should have the same samples\n",
    "            assert np.all(spx_1.samples == spx_2.samples)\n",
    "            \n",
    "            # TODO: explain (symmetry w.r.t. neighbor species exchange)\n",
    "            if ns1 > ns2:\n",
    "                continue\n",
    "            elif ns1 == ns2:\n",
    "                factor = 1.0 / np.sqrt(2 * l1 + 1)\n",
    "            else:\n",
    "                factor = np.sqrt(2) / np.sqrt(2 * l1 + 1)\n",
    "\n",
    "            features = Indexes(\n",
    "                names=[f\"{name}_1\" for name in spx_1.features.names] + [f\"{name}_2\" for name in spx_2.features.names],\n",
    "                values=np.array([\n",
    "                    features_1.tolist() + features_2.tolist()\n",
    "                    for features_1 in spx_1.features\n",
    "                    for features_2 in spx_2.features\n",
    "                ], dtype=np.int32)\n",
    "            )\n",
    "\n",
    "            data = factor * np.einsum(\"ima, imb -> iab\", spx_1.values, spx_2.values)\n",
    "\n",
    "            blocks.append(Block(\n",
    "                data=data.reshape(data.shape[0], 1, -1), \n",
    "                samples=spx_1.samples, \n",
    "                symmetric=Indexes.single(),\n",
    "                features=features\n",
    "            ))\n",
    "\n",
    "            sparse_indexes.append((l1, cs1, ns1, ns2))\n",
    "\n",
    "    sparse_indexes = Indexes(\n",
    "        names=['spherical_harmonics_l', 'center_species', 'neighbor_species_1', 'neighbor_species_2'],\n",
    "        values=np.array(sparse_indexes, dtype=np.int32)\n",
    "    )\n",
    "    descriptor = Descriptor(sparse_indexes, blocks)\n",
    "    descriptor.sparse_to_features('spherical_harmonics_l')\n",
    "    return descriptor\n"
   ]
  },
  {
   "cell_type": "markdown",
   "metadata": {},
   "source": [
    "# Compute full kernel"
   ]
  },
  {
   "cell_type": "code",
   "execution_count": 6,
   "metadata": {},
   "outputs": [],
   "source": [
    "def dot(lhs_descriptor, rhs_descriptor, normalize=True):\n",
    "    assert len(lhs_descriptor.sparse_indexes) == len(rhs_descriptor.sparse_indexes)\n",
    "    if len(lhs_descriptor.sparse_indexes)  != 0:\n",
    "        assert np.all(lhs_descriptor.sparse_indexes == rhs_descriptor.sparse_indexes)\n",
    "\n",
    "    blocks = []\n",
    "    for sparse, lhs_block in lhs_descriptor:\n",
    "        rhs_block = rhs_descriptor.block(sparse)\n",
    "        assert np.all(lhs_block.features == rhs_block.features)\n",
    "    \n",
    "        # only deal with invariants for now\n",
    "        assert lhs_block.values.shape[1] == 1\n",
    "        assert rhs_block.values.shape[1] == 1\n",
    "\n",
    "        samples = lhs_block.samples\n",
    "        features = rhs_block.samples\n",
    "\n",
    "        lhs = invariant_block_to_2d_array(lhs_block)\n",
    "        rhs = invariant_block_to_2d_array(rhs_block)\n",
    "\n",
    "        if normalize:\n",
    "            lhs = lhs / np.linalg.norm(lhs, axis=1)[:, None]\n",
    "            rhs = rhs / np.linalg.norm(rhs, axis=1)[:, None]\n",
    "\n",
    "        block = Block(\n",
    "            data=array_2d_to_invariant(lhs @ rhs.T),\n",
    "            samples=samples, \n",
    "            symmetric=Indexes.single(),\n",
    "            features=features,\n",
    "        )\n",
    "        blocks.append(block)\n",
    "\n",
    "    return Descriptor(lhs_descriptor.sparse_indexes, blocks)\n",
    "\n",
    "\n",
    "def power(kernel, zeta):\n",
    "    blocks = []\n",
    "    for _, block in kernel:\n",
    "        blocks.append(Block(\n",
    "            np.power(block.values, zeta), \n",
    "            block.samples, \n",
    "            block.symmetric, \n",
    "            block.features\n",
    "        ))\n",
    "\n",
    "    return Descriptor(kernel.sparse_indexes, blocks)\n"
   ]
  },
  {
   "cell_type": "code",
   "execution_count": 7,
   "metadata": {},
   "outputs": [],
   "source": [
    "def structure_sum(kernel, sum_features=False):\n",
    "    blocks = []\n",
    "    for _, block in kernel:\n",
    "\n",
    "        # no lambda kernels for now\n",
    "        assert block.values.shape[1] == 1\n",
    "\n",
    "        structures = np.unique(block.samples[\"structure\"])\n",
    "\n",
    "        if sum_features:\n",
    "            ref_structures = np.unique(block.features[\"structure\"])\n",
    "            features = Indexes([\"structure\"], ref_structures.reshape(-1, 1))\n",
    "        else:\n",
    "            features = block.features\n",
    "\n",
    "        result = np.zeros((len(structures), 1, features.shape[0]))\n",
    "\n",
    "        if sum_features:\n",
    "            for i, s1 in enumerate(structures):\n",
    "                for j, s2 in enumerate(ref_structures):\n",
    "\n",
    "                    s1_idx = block.samples[\"structure\"] == s1\n",
    "                    s2_idx = block.features[\"structure\"] == s2\n",
    "                    result[i, 0, j] = np.sum(block.values[s1_idx, 0, :][:, s2_idx])\n",
    "        else:\n",
    "            for i, s1 in enumerate(structures):\n",
    "                s1_idx = block.samples[\"structure\"] == s1\n",
    "                result[i, 0, :] = np.sum(block.values[s1_idx, 0, :], axis=0)\n",
    "\n",
    "        block = Block(\n",
    "            data=result, \n",
    "            samples=Indexes([\"structure\"], structures.reshape(-1, 1)),\n",
    "            symmetric=Indexes.single(), \n",
    "            features=features,\n",
    "        )\n",
    "        blocks.append(block)\n",
    "        \n",
    "    return Descriptor(sparse_indexes=kernel.sparse_indexes, blocks=blocks)\n"
   ]
  },
  {
   "cell_type": "markdown",
   "metadata": {},
   "source": [
    "### Check vs librascal"
   ]
  },
  {
   "cell_type": "code",
   "execution_count": 8,
   "metadata": {},
   "outputs": [],
   "source": [
    "check_frames = training_frames[::10]\n",
    "\n",
    "ps = compute_power_spectrum(check_frames)\n",
    "\n",
    "ps.sparse_to_features('neighbor_species_1')\n",
    "ps.sparse_to_features('neighbor_species_2')\n",
    "ps.sparse_to_samples('center_species')\n",
    "\n",
    "kernel = power(dot(ps, ps), zeta=1)\n",
    "\n",
    "structure_kernel = structure_sum(kernel, sum_features=True)"
   ]
  },
  {
   "cell_type": "code",
   "execution_count": 9,
   "metadata": {},
   "outputs": [],
   "source": [
    "from rascal.representations import SphericalInvariants\n",
    "from rascal.models import Kernel as RascalKernel\n",
    "\n",
    "rascal_calculator = SphericalInvariants(\n",
    "    normalize=True, \n",
    "    soap_type=\"PowerSpectrum\", \n",
    "    **rascal_hypers\n",
    ")\n",
    "managers = rascal_calculator.transform(check_frames)\n",
    "\n",
    "rascal_ps = managers.get_features(rascal_calculator)\n",
    "rascal_kernel_per_atom = rascal_ps @ rascal_ps.T\n",
    "rascal_kernel = np.zeros((len(check_frames), len(check_frames)))\n",
    "\n",
    "start_i = 0\n",
    "for i, frame_1 in enumerate(check_frames):\n",
    "    stop_i = start_i + len(frame_1)\n",
    "    \n",
    "    start_j = 0\n",
    "    for j, frame_2 in enumerate(check_frames):\n",
    "        stop_j = start_j + len(frame_2)\n",
    "        rascal_kernel[i, j] = np.sum(rascal_kernel_per_atom[start_i:stop_i, start_j:stop_j])\n",
    "        start_j = stop_j\n",
    "\n",
    "    start_i = stop_i\n",
    "        \n",
    "\n",
    "# This is using mean instead of sum for reduction\n",
    "# rascal_kernel_fn = RascalKernel(\n",
    "#     rascal_calculator, \n",
    "#     name=\"Cosine\", \n",
    "#     kernel_type=\"Full\",\n",
    "#     target_type=\"Structure\",\n",
    "#     zeta=1\n",
    "# )"
   ]
  },
  {
   "cell_type": "code",
   "execution_count": 10,
   "metadata": {},
   "outputs": [
    {
     "data": {
      "text/plain": [
       "True"
      ]
     },
     "execution_count": 10,
     "metadata": {},
     "output_type": "execute_result"
    }
   ],
   "source": [
    "np.allclose(rascal_kernel, invariant_block_to_2d_array(structure_kernel.block()))"
   ]
  },
  {
   "cell_type": "markdown",
   "metadata": {},
   "source": [
    "# Train a GAP model with full kernel"
   ]
  },
  {
   "cell_type": "code",
   "execution_count": 11,
   "metadata": {},
   "outputs": [],
   "source": [
    "class FullKernelGapPrecomputedSoap:\n",
    "    def __init__(self, zeta, regularizer):\n",
    "        self.zeta = zeta\n",
    "        self.regularizer = regularizer\n",
    "        \n",
    "        self.training_points = None\n",
    "\n",
    "        self.weights = None\n",
    "\n",
    "    def fit(self, ps, energies):\n",
    "        self.training_points = ps\n",
    "\n",
    "        k_nn_per_atom = self._compute_kernel(ps)\n",
    "        k_nn_per_structure = structure_sum(k_nn_per_atom, sum_features=True)\n",
    "\n",
    "        kernel = invariant_block_to_2d_array(k_nn_per_structure.block())\n",
    "        kernel[np.diag_indices_from(kernel)] += self.regularizer / energies.std()\n",
    "\n",
    "        self.offset = energies.mean()\n",
    "\n",
    "        self.weights = np.linalg.lstsq(kernel, energies - self.offset, rcond=None)[0]\n",
    "\n",
    "    def predict(self, ps):\n",
    "        if self.weights is None:\n",
    "            raise Exception(\"call fit first\")\n",
    "\n",
    "        k_per_atom = self._compute_kernel(ps)\n",
    "        k_per_structure = structure_sum(k_per_atom, sum_features=True)\n",
    "\n",
    "        kernel = invariant_block_to_2d_array(k_per_structure.block())\n",
    "        \n",
    "        return kernel @ self.weights.T + self.offset\n",
    "\n",
    "    def _compute_kernel(self, ps):\n",
    "        return power(dot(ps, self.training_points), zeta=self.zeta)\n",
    "\n",
    "\n",
    "class FullKernelGap:\n",
    "    def __init__(self, zeta, regularizer):\n",
    "        self.impl = FullKernelGapPrecomputedSoap(zeta, regularizer)\n",
    "\n",
    "    def fit(self, frames, energies):\n",
    "        ps = compute_power_spectrum(frames)\n",
    "\n",
    "        ps.sparse_to_features(['neighbor_species_1', 'neighbor_species_2'])\n",
    "        ps.sparse_to_samples('center_species')\n",
    "\n",
    "        self.impl.fit(ps, energies)\n",
    "\n",
    "    def predict(self, frames):\n",
    "        ps = compute_power_spectrum(frames)\n",
    "\n",
    "        ps.sparse_to_features(['neighbor_species_1', 'neighbor_species_2'])\n",
    "        ps.sparse_to_samples('center_species')\n",
    "        \n",
    "        return self.impl.predict(ps)    \n"
   ]
  },
  {
   "cell_type": "code",
   "execution_count": 12,
   "metadata": {},
   "outputs": [],
   "source": [
    "def percent_rmse(energies, predicted):\n",
    "    return np.sqrt(np.mean((energies - predicted)**2)) / np.std(energies)"
   ]
  },
  {
   "cell_type": "code",
   "execution_count": 13,
   "metadata": {},
   "outputs": [],
   "source": [
    "train_ps = compute_power_spectrum(training_frames)\n",
    "train_ps.sparse_to_features(['neighbor_species_1', 'neighbor_species_2'])\n",
    "train_ps.sparse_to_samples('center_species')"
   ]
  },
  {
   "cell_type": "code",
   "execution_count": 14,
   "metadata": {},
   "outputs": [],
   "source": [
    "test_ps = compute_power_spectrum(testing_frames)\n",
    "test_ps.sparse_to_features(['neighbor_species_1', 'neighbor_species_2'])\n",
    "test_ps.sparse_to_samples('center_species')"
   ]
  },
  {
   "cell_type": "code",
   "execution_count": 15,
   "metadata": {},
   "outputs": [],
   "source": [
    "model = FullKernelGapPrecomputedSoap(zeta=2, regularizer=1e-2)\n",
    "\n",
    "model.fit(train_ps, train_energies)"
   ]
  },
  {
   "cell_type": "code",
   "execution_count": 16,
   "metadata": {},
   "outputs": [
    {
     "data": {
      "text/plain": [
       "Text(0.5, 1.0, 'loss = 6.27% RMSE')"
      ]
     },
     "execution_count": 16,
     "metadata": {},
     "output_type": "execute_result"
    },
    {
     "data": {
      "image/png": "[encoded data removed]",
      "text/plain": [
       "<Figure size 432x288 with 1 Axes>"
      ]
     },
     "metadata": {
      "needs_background": "light"
     },
     "output_type": "display_data"
    }
   ],
   "source": [
    "predicted = model.predict(train_ps)\n",
    "\n",
    "loss = percent_rmse(train_energies, predicted)\n",
    "\n",
    "x = [train_energies.min(), train_energies.max()]\n",
    "plt.plot(x, x, color=\"r\")\n",
    "\n",
    "plt.scatter(train_energies, predicted)\n",
    "\n",
    "plt.title(f\"loss = {100 * loss:.3}% RMSE\")"
   ]
  },
  {
   "cell_type": "code",
   "execution_count": 17,
   "metadata": {},
   "outputs": [
    {
     "data": {
      "text/plain": [
       "Text(0.5, 1.0, 'loss = 14.2% RMSE')"
      ]
     },
     "execution_count": 17,
     "metadata": {},
     "output_type": "execute_result"
    },
    {
     "data": {
      "image/png": "[encoded data removed]",
      "text/plain": [
       "<Figure size 432x288 with 1 Axes>"
      ]
     },
     "metadata": {
      "needs_background": "light"
     },
     "output_type": "display_data"
    }
   ],
   "source": [
    "predicted = model.predict(test_ps)\n",
    "\n",
    "loss = percent_rmse(test_energies, predicted)\n",
    "\n",
    "x = [test_energies.min(), test_energies.max()]\n",
    "plt.plot(x, x, color=\"r\")\n",
    "\n",
    "plt.scatter(test_energies, predicted)\n",
    "\n",
    "plt.title(f\"loss = {100 * loss:.3}% RMSE\")"
   ]
  },
  {
   "cell_type": "code",
   "execution_count": 18,
   "metadata": {},
   "outputs": [],
   "source": [
    "# TODO: predict forces\n",
    "# TODO: train with forces\n",
    "# both require implementing sparse_to_features & friends for gradients"
   ]
  },
  {
   "cell_type": "markdown",
   "metadata": {},
   "source": [
    "# Sparse kernels"
   ]
  },
  {
   "cell_type": "code",
   "execution_count": 19,
   "metadata": {},
   "outputs": [],
   "source": [
    "train_ps_per_species = compute_power_spectrum(training_frames)\n",
    "train_ps_per_species.sparse_to_features(['neighbor_species_1', 'neighbor_species_2'])"
   ]
  },
  {
   "cell_type": "code",
   "execution_count": 20,
   "metadata": {},
   "outputs": [],
   "source": [
    "test_ps_per_species = compute_power_spectrum(testing_frames)\n",
    "test_ps_per_species.sparse_to_features(['neighbor_species_1', 'neighbor_species_2'])"
   ]
  },
  {
   "cell_type": "code",
   "execution_count": 21,
   "metadata": {},
   "outputs": [],
   "source": [
    "def _select_support_points_for_block(block: Block, n_select: int):\n",
    "    fps = skcosmo.sample_selection.FPS(n_to_select=n_select)\n",
    "    selected = fps.fit_transform(invariant_block_to_2d_array(block))\n",
    "\n",
    "    return Block(\n",
    "        array_2d_to_invariant(selected), \n",
    "        samples=block.samples[fps.selected_idx_],\n",
    "        symmetric=Indexes.single(), \n",
    "        features=block.features\n",
    "    )\n",
    "    \n",
    "\n",
    "def select_support_points(ps, n_select):\n",
    "    if isinstance(n_select, int):\n",
    "        block = _select_support_points_for_block(ps.block(), n_select)\n",
    "\n",
    "        return Descriptor(Indexes.single(), [block])\n",
    "    \n",
    "    else:\n",
    "        blocks = []\n",
    "        for key, value in n_select.items():\n",
    "            block = _select_support_points_for_block(\n",
    "                ps.block(**key.as_dict()), \n",
    "                n_select=value,\n",
    "            )\n",
    "            blocks.append(block)\n",
    "\n",
    "        return Descriptor(ps.sparse_indexes, blocks)"
   ]
  },
  {
   "cell_type": "code",
   "execution_count": 22,
   "metadata": {},
   "outputs": [],
   "source": [
    "class SparseKernelGapPrecomputedSoap:\n",
    "    def __init__(self, support_points, zeta, regularizer, jitter=1e-13):\n",
    "        self.zeta = zeta\n",
    "        self.jitter = jitter\n",
    "        self.regularizer = regularizer\n",
    "        self.support_points = support_points\n",
    "\n",
    "        self.weights = None\n",
    "\n",
    "    def fit(self, ps, energies):\n",
    "        k_mm = self._compute_kernel(self.support_points)\n",
    "        K_MM = []\n",
    "        for _, k_mm_block in k_mm:\n",
    "            K_MM.append(invariant_block_to_2d_array(k_mm_block))\n",
    "    \n",
    "        K_MM = scipy.linalg.block_diag(*K_MM)\n",
    "\n",
    "        k_nm_per_atom = self._compute_kernel(ps)\n",
    "        k_nm_per_structure = structure_sum(k_nm_per_atom, sum_features=False)\n",
    "        \n",
    "        # TODO: make sure this create an array in the same order as\n",
    "        # `scipy.linalg.block_diag` above\n",
    "        if len(k_nm_per_structure.sparse_indexes.names) != 0:\n",
    "            names = list(k_nm_per_structure.sparse_indexes.names)\n",
    "            k_nm_per_structure.sparse_to_features(names)\n",
    "\n",
    "        K_NM = invariant_block_to_2d_array(k_nm_per_structure.block()) \n",
    "        \n",
    "        # TODO: include sqrt(n_atoms_per_structure) in the regularizer? \n",
    "        regularizer = self.regularizer / energies.std()\n",
    "        K_NM[:] /= regularizer\n",
    "\n",
    "        K_MM[np.diag_indices_from(K_MM)] += self.jitter\n",
    "\n",
    "        self.offset = energies.mean()\n",
    "\n",
    "        K = K_MM + K_NM.T @ K_NM\n",
    "        Y = K_NM.T @ (energies - self.offset) / regularizer\n",
    "\n",
    "        self.weights = np.linalg.lstsq(K, Y, rcond=None)[0]\n",
    "\n",
    "\n",
    "    def predict(self, ps):\n",
    "        if self.weights is None:\n",
    "            raise Exception(\"call fit first\")\n",
    "\n",
    "        k_per_atom = self._compute_kernel(ps)\n",
    "        k_per_structure = structure_sum(k_per_atom, sum_features=False)\n",
    "        # TODO: make sure this create an array in the same order as block_diag above\n",
    "        if len(k_per_structure.sparse_indexes.names) != 0:\n",
    "            names = list(k_per_structure.sparse_indexes.names)\n",
    "            k_per_structure.sparse_to_features(names)\n",
    "\n",
    "        kernel = invariant_block_to_2d_array(k_per_structure.block())\n",
    "        \n",
    "        return kernel @ self.weights.T + self.offset\n",
    "\n",
    "    def _compute_kernel(self, ps):\n",
    "        return power(dot(ps, self.support_points), zeta=self.zeta)"
   ]
  },
  {
   "cell_type": "code",
   "execution_count": 23,
   "metadata": {},
   "outputs": [
    {
     "name": "stdout",
     "output_type": "stream",
     "text": [
      "(80, 1, 1512)\n"
     ]
    }
   ],
   "source": [
    "support = select_support_points(train_ps, n_select=80)\n",
    "\n",
    "print(support.block().values.shape)"
   ]
  },
  {
   "cell_type": "code",
   "execution_count": 24,
   "metadata": {},
   "outputs": [],
   "source": [
    "model = SparseKernelGapPrecomputedSoap(support_points=support, zeta=2, regularizer=1e-2)\n",
    "\n",
    "model.fit(train_ps, train_energies)"
   ]
  },
  {
   "cell_type": "code",
   "execution_count": 25,
   "metadata": {},
   "outputs": [
    {
     "data": {
      "text/plain": [
       "Text(0.5, 1.0, 'loss = 2.72% RMSE')"
      ]
     },
     "execution_count": 25,
     "metadata": {},
     "output_type": "execute_result"
    },
    {
     "data": {
      "image/png": "[encoded data removed]",
      "text/plain": [
       "<Figure size 432x288 with 1 Axes>"
      ]
     },
     "metadata": {
      "needs_background": "light"
     },
     "output_type": "display_data"
    }
   ],
   "source": [
    "predicted = model.predict(train_ps)\n",
    "\n",
    "loss = percent_rmse(train_energies, predicted)\n",
    "\n",
    "x = [train_energies.min(), train_energies.max()]\n",
    "plt.plot(x, x, color=\"r\")\n",
    "\n",
    "plt.scatter(train_energies, predicted)\n",
    "\n",
    "plt.title(f\"loss = {100 * loss:.3}% RMSE\")"
   ]
  },
  {
   "cell_type": "code",
   "execution_count": 26,
   "metadata": {},
   "outputs": [
    {
     "data": {
      "text/plain": [
       "Text(0.5, 1.0, 'loss = 15.4% RMSE')"
      ]
     },
     "execution_count": 26,
     "metadata": {},
     "output_type": "execute_result"
    },
    {
     "data": {
      "image/png": "[encoded data removed]",
      "text/plain": [
       "<Figure size 432x288 with 1 Axes>"
      ]
     },
     "metadata": {
      "needs_background": "light"
     },
     "output_type": "display_data"
    }
   ],
   "source": [
    "predicted = model.predict(test_ps)\n",
    "\n",
    "loss = percent_rmse(test_energies, predicted)\n",
    "\n",
    "x = [test_energies.min(), test_energies.max()]\n",
    "plt.plot(x, x, color=\"r\")\n",
    "\n",
    "plt.scatter(test_energies, predicted)\n",
    "\n",
    "plt.title(f\"loss = {100 * loss:.3}% RMSE\")"
   ]
  },
  {
   "cell_type": "markdown",
   "metadata": {},
   "source": [
    "## Sparse kernel with different support point per central species"
   ]
  },
  {
   "cell_type": "code",
   "execution_count": 27,
   "metadata": {},
   "outputs": [],
   "source": [
    "n_select = {\n",
    "    center_species: 0\n",
    "    for center_species in train_ps_per_species.sparse_indexes.as_namedtuples()\n",
    "}\n",
    "\n",
    "n_select[(1,)] = 30\n",
    "n_select[(6,)] = 30\n",
    "n_select[(8,)] = 20\n",
    "\n",
    "support = select_support_points(train_ps_per_species, n_select=n_select)"
   ]
  },
  {
   "cell_type": "code",
   "execution_count": 28,
   "metadata": {},
   "outputs": [],
   "source": [
    "model = SparseKernelGapPrecomputedSoap(support_points=support, zeta=2, regularizer=1e-2)\n",
    "\n",
    "model.fit(train_ps_per_species, train_energies)"
   ]
  },
  {
   "cell_type": "code",
   "execution_count": 29,
   "metadata": {},
   "outputs": [
    {
     "data": {
      "text/plain": [
       "Text(0.5, 1.0, 'loss = 2.16% RMSE')"
      ]
     },
     "execution_count": 29,
     "metadata": {},
     "output_type": "execute_result"
    },
    {
     "data": {
      "image/png": "[encoded data removed]",
      "text/plain": [
       "<Figure size 432x288 with 1 Axes>"
      ]
     },
     "metadata": {
      "needs_background": "light"
     },
     "output_type": "display_data"
    }
   ],
   "source": [
    "predicted = model.predict(train_ps_per_species)\n",
    "\n",
    "loss = percent_rmse(train_energies, predicted)\n",
    "\n",
    "x = [train_energies.min(), train_energies.max()]\n",
    "plt.plot(x, x, color=\"r\")\n",
    "\n",
    "plt.scatter(train_energies, predicted)\n",
    "\n",
    "plt.title(f\"loss = {100 * loss:.3}% RMSE\")"
   ]
  },
  {
   "cell_type": "code",
   "execution_count": 30,
   "metadata": {},
   "outputs": [
    {
     "data": {
      "text/plain": [
       "Text(0.5, 1.0, 'loss = 10.6% RMSE')"
      ]
     },
     "execution_count": 30,
     "metadata": {},
     "output_type": "execute_result"
    },
    {
     "data": {
      "image/png": "[encoded data removed]",
      "text/plain": [
       "<Figure size 432x288 with 1 Axes>"
      ]
     },
     "metadata": {
      "needs_background": "light"
     },
     "output_type": "display_data"
    }
   ],
   "source": [
    "predicted = model.predict(test_ps_per_species)\n",
    "\n",
    "loss = percent_rmse(test_energies, predicted)\n",
    "\n",
    "x = [test_energies.min(), test_energies.max()]\n",
    "plt.plot(x, x, color=\"r\")\n",
    "\n",
    "plt.scatter(test_energies, predicted)\n",
    "\n",
    "plt.title(f\"loss = {100 * loss:.3}% RMSE\")"
   ]
  },
  {
   "cell_type": "code",
   "execution_count": null,
   "metadata": {},
   "outputs": [],
   "source": []
  }
 ],
 "metadata": {
  "interpreter": {
   "hash": "46a3bf082de270cf4d35c6bb6468ec6f7ec9131097368497bd626063de552778"
  },
  "kernelspec": {
   "display_name": "Python 3.9.7 ('virtualenv': venv)",
   "language": "python",
   "name": "python3"
  },
  "language_info": {
   "codemirror_mode": {
    "name": "ipython",
    "version": 3
   },
   "file_extension": ".py",
   "mimetype": "text/x-python",
   "name": "python",
   "nbconvert_exporter": "python",
   "pygments_lexer": "ipython3",
   "version": "3.9.7"
  },
  "orig_nbformat": 4
 },
 "nbformat": 4,
 "nbformat_minor": 2
}
